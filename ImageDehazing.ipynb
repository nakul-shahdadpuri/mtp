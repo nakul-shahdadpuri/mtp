{
 "cells": [
  {
   "cell_type": "code",
   "execution_count": 2,
   "metadata": {
    "colab": {},
    "colab_type": "code",
    "id": "XM8S9DjPXjTP"
   },
   "outputs": [],
   "source": [
    "import tensorflow as tf\n",
    "import numpy as np\n",
    "import os, shutil\n",
    "from tensorflow.keras.layers import *\n",
    "import glob\n",
    "import random\n",
    "from PIL import Image\n",
    "import cv2\n",
    "# from google.colab.patches import cv2_imshow\n",
    "import matplotlib.pyplot as plt\n",
    "import matplotlib as mpl"
   ]
  },
  {
   "cell_type": "markdown",
   "metadata": {
    "colab_type": "text",
    "id": "i97MpbER7dxY"
   },
   "source": [
    "# **Hyperparameters**"
   ]
  },
  {
   "cell_type": "code",
   "execution_count": 3,
   "metadata": {
    "colab": {},
    "colab_type": "code",
    "id": "-TVsGGZC7S5F"
   },
   "outputs": [],
   "source": [
    "n_epochs = 10\n",
    "batch_size = 8\n",
    "learning_rate = 1e-4\n",
    "weight_decay = 1e-4"
   ]
  },
  {
   "cell_type": "markdown",
   "metadata": {
    "colab_type": "text",
    "id": "B6jHdkEX7Bvv"
   },
   "source": [
    "# **Network Definition**"
   ]
  },
  {
   "cell_type": "code",
   "execution_count": 4,
   "metadata": {
    "colab": {},
    "colab_type": "code",
    "id": "QCEbg0A5X5-b"
   },
   "outputs": [],
   "source": [
    "def haze_net(X):\n",
    "  \n",
    "  conv1 = Conv2D(3,1,1,padding=\"SAME\",activation=\"relu\",use_bias=True,kernel_initializer=tf.initializers.random_normal(stddev=0.02),\n",
    "                kernel_regularizer=tf.keras.regularizers.l2(weight_decay))(X)\n",
    "  conv2 = Conv2D(3,3,1,padding=\"SAME\",activation=\"relu\",use_bias=True,kernel_initializer=tf.initializers.random_normal(stddev=0.02),\n",
    "                kernel_regularizer=tf.keras.regularizers.l2(weight_decay))(conv1)\n",
    "  concat1 = tf.concat([conv1,conv2],axis=-1)\n",
    "  \n",
    "  conv3 = Conv2D(3,5,1,padding=\"SAME\",activation=\"relu\",use_bias=True,kernel_initializer=tf.initializers.random_normal(stddev=0.02),\n",
    "                kernel_regularizer=tf.keras.regularizers.l2(weight_decay))(concat1)\n",
    "  concat2 = tf.concat([conv2,conv3],axis=-1)\n",
    "  \n",
    "  conv4 = Conv2D(3,7,1,padding=\"SAME\",activation=\"relu\",use_bias=True,kernel_initializer=tf.initializers.random_normal(stddev=0.02),\n",
    "                kernel_regularizer=tf.keras.regularizers.l2(weight_decay))(concat2)\n",
    "  concat3 = tf.concat([conv1,conv2,conv3,conv4],axis=-1)\n",
    "  \n",
    "  conv5 = Conv2D(3,3,1,padding=\"SAME\",activation=\"relu\",use_bias=True,kernel_initializer=tf.initializers.random_normal(stddev=0.02),\n",
    "                kernel_regularizer=tf.keras.regularizers.l2(weight_decay))(concat3)\n",
    "  K = conv5\n",
    "  \n",
    "  output = ReLU(max_value=1.0)(tf.math.multiply(K,X) - K + 1.0)\n",
    "  #output = output / 255.0\n",
    "  \n",
    "  return output\n",
    "\n",
    "\n",
    "# Experimental Network with Res-Net type connections\n",
    "def haze_res_net(X):\n",
    "  \n",
    "  conv1 = Conv2D(3,1,1,padding=\"SAME\",activation=\"relu\",use_bias=True,kernel_initializer=tf.initializers.random_normal(),\n",
    "                kernel_regularizer=tf.keras.regularizers.l2(weight_decay))(X)\n",
    "  conv2 = Conv2D(3,3,1,padding=\"SAME\",activation=\"relu\",use_bias=True,kernel_initializer=tf.initializers.random_normal(),\n",
    "                kernel_regularizer=tf.keras.regularizers.l2(weight_decay))(conv1)\n",
    "  add1 = conv1 + conv2\n",
    "  \n",
    "  conv3 = Conv2D(3,5,1,padding=\"SAME\",activation=\"relu\",use_bias=True,kernel_initializer=tf.initializers.random_normal(),\n",
    "                kernel_regularizer=tf.keras.regularizers.l2(weight_decay))(add1)\n",
    "  \n",
    "  conv4 = Conv2D(3,7,1,padding=\"SAME\",activation=\"relu\",use_bias=True,kernel_initializer=tf.initializers.random_normal(),\n",
    "                kernel_regularizer=tf.keras.regularizers.l2(weight_decay))(conv3)\n",
    "  add2 = conv3 + conv4\n",
    "  \n",
    "  conv5 = Conv2D(3,3,1,padding=\"SAME\",activation=\"relu\",use_bias=True,kernel_initializer=tf.initializers.random_normal(),\n",
    "                kernel_regularizer=tf.keras.regularizers.l2(weight_decay))(add2)\n",
    "  add3 = conv5 + conv1\n",
    "  K = add3\n",
    "  \n",
    "  output = ReLU(max_value=1.0)(tf.math.multiply(K,X) - K + 1.0)\n",
    "  #output = output / 255.0\n",
    "  \n",
    "  return output\n"
   ]
  },
  {
   "cell_type": "markdown",
   "metadata": {
    "colab_type": "text",
    "id": "DLewmbK37I29"
   },
   "source": [
    "# **Data Loading & Pre-processing**"
   ]
  },
  {
   "cell_type": "code",
   "execution_count": 19,
   "metadata": {
    "colab": {},
    "colab_type": "code",
    "id": "jIcPe_UCcNn8"
   },
   "outputs": [],
   "source": [
    "def load_image(X):\n",
    "  X = tf.io.read_file(X)\n",
    "  X = tf.image.decode_jpeg(X,channels=3)\n",
    "  X = tf.image.resize(X,(480,640))\n",
    "  X = X / 255.0\n",
    "  return X\n",
    "\n",
    "def showImage(x):\n",
    "  x = np.asarray(x*255,dtype=np.int32)\n",
    "  plt.figure()\n",
    "  plt.imshow(x)\n",
    "  plt.show()"
   ]
  },
  {
   "cell_type": "code",
   "execution_count": 6,
   "metadata": {
    "colab": {},
    "colab_type": "code",
    "id": "SKvs6a0jRXXO"
   },
   "outputs": [],
   "source": []
  },
  {
   "cell_type": "code",
   "execution_count": 7,
   "metadata": {
    "colab": {},
    "colab_type": "code",
    "id": "MPV56lybcfne"
   },
   "outputs": [],
   "source": []
  },
  {
   "cell_type": "markdown",
   "metadata": {
    "colab_type": "text",
    "id": "VKa2Fg2T7nS7"
   },
   "source": [
    "# **Training**"
   ]
  },
  {
   "cell_type": "code",
   "execution_count": null,
   "metadata": {
    "colab": {},
    "colab_type": "code",
    "id": "JMuKJ59NHVg9"
   },
   "outputs": [],
   "source": []
  },
  {
   "cell_type": "code",
   "execution_count": null,
   "metadata": {
    "colab": {
     "base_uri": "https://localhost:8080/",
     "height": 1000
    },
    "colab_type": "code",
    "id": "IobqAjYMgsC1",
    "outputId": "360d731b-8bc8-4795-e4c1-dccfda1a904f"
   },
   "outputs": [],
   "source": []
  },
  {
   "cell_type": "code",
   "execution_count": 0,
   "metadata": {
    "colab": {},
    "colab_type": "code",
    "id": "6lCLSaQ2KbhH"
   },
   "outputs": [],
   "source": []
  },
  {
   "cell_type": "code",
   "execution_count": 0,
   "metadata": {
    "colab": {},
    "colab_type": "code",
    "id": "0hIPF7UTJvV5"
   },
   "outputs": [],
   "source": []
  },
  {
   "cell_type": "markdown",
   "metadata": {
    "colab_type": "text",
    "id": "YlvRxPSH60vT"
   },
   "source": [
    "## **Evaluation**"
   ]
  },
  {
   "cell_type": "code",
   "execution_count": null,
   "metadata": {
    "colab": {},
    "colab_type": "code",
    "id": "Rrn7TNF_km2k"
   },
   "outputs": [],
   "source": []
  },
  {
   "cell_type": "code",
   "execution_count": null,
   "metadata": {
    "colab": {
     "base_uri": "https://localhost:8080/",
     "height": 1000
    },
    "colab_type": "code",
    "id": "1ZuMVtQQsUjO",
    "outputId": "44f575f1-f1ad-44cc-c220-0962f0ffac76"
   },
   "outputs": [],
   "source": []
  },
  {
   "cell_type": "code",
   "execution_count": null,
   "metadata": {
    "colab": {},
    "colab_type": "code",
    "id": "kVtg2EB3_hew"
   },
   "outputs": [],
   "source": []
  },
  {
   "cell_type": "code",
   "execution_count": 0,
   "metadata": {
    "colab": {},
    "colab_type": "code",
    "id": "KiASlDzBEHPQ"
   },
   "outputs": [],
   "source": []
  }
 ],
 "metadata": {
  "accelerator": "GPU",
  "colab": {
   "collapsed_sections": [],
   "name": "ImageDehazing.ipynb",
   "provenance": [],
   "toc_visible": true,
   "version": "0.3.2"
  },
  "kernelspec": {
   "display_name": "Python 3 (ipykernel)",
   "language": "python",
   "name": "python3"
  },
  "language_info": {
   "codemirror_mode": {
    "name": "ipython",
    "version": 3
   },
   "file_extension": ".py",
   "mimetype": "text/x-python",
   "name": "python",
   "nbconvert_exporter": "python",
   "pygments_lexer": "ipython3",
   "version": "3.7.0"
  }
 },
 "nbformat": 4,
 "nbformat_minor": 1
}
